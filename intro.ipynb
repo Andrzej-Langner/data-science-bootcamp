{
  "nbformat": 4,
  "nbformat_minor": 0,
  "metadata": {
    "colab": {
      "provenance": [],
      "authorship_tag": "ABX9TyMN/DRY+b1k1rirN96zCRfx",
      "include_colab_link": true
    },
    "kernelspec": {
      "name": "python3",
      "display_name": "Python 3"
    },
    "language_info": {
      "name": "python"
    }
  },
  "cells": [
    {
      "cell_type": "markdown",
      "metadata": {
        "id": "view-in-github",
        "colab_type": "text"
      },
      "source": [
        "<a href=\"https://colab.research.google.com/github/Andrzej-Langner/data-science-bootcamp/blob/main/intro.ipynb\" target=\"_parent\"><img src=\"https://colab.research.google.com/assets/colab-badge.svg\" alt=\"Open In Colab\"/></a>"
      ]
    },
    {
      "cell_type": "code",
      "execution_count": null,
      "metadata": {
        "colab": {
          "base_uri": "https://localhost:8080/"
        },
        "id": "KL13ANsz0t0e",
        "outputId": "29686a70-c621-443e-aca0-f99c44b0b2da"
      },
      "outputs": [
        {
          "output_type": "stream",
          "name": "stdout",
          "text": [
            "Witaj\n"
          ]
        }
      ],
      "source": [
        "#@title\n",
        "print(\"Witaj\")"
      ]
    },
    {
      "cell_type": "markdown",
      "source": [
        "Witaj An\n"
      ],
      "metadata": {
        "id": "E5Mb4HWgklOt"
      }
    },
    {
      "cell_type": "code",
      "source": [
        "print(\"Cos nowego\")"
      ],
      "metadata": {
        "colab": {
          "base_uri": "https://localhost:8080/"
        },
        "id": "dIVbc0IkruWq",
        "outputId": "b3b7efbf-7bf5-4f7e-fa2f-48afcfec2203"
      },
      "execution_count": 1,
      "outputs": [
        {
          "output_type": "stream",
          "name": "stdout",
          "text": [
            "Cos nowego\n"
          ]
        }
      ]
    },
    {
      "cell_type": "markdown",
      "source": [
        "Zmiana"
      ],
      "metadata": {
        "id": "DVH0QYcQsy5F"
      }
    },
    {
      "cell_type": "code",
      "source": [],
      "metadata": {
        "id": "V9ek_pF0sxli"
      },
      "execution_count": null,
      "outputs": []
    }
  ]
}